{
  "nbformat": 4,
  "nbformat_minor": 0,
  "metadata": {
    "colab": {
      "provenance": [],
      "authorship_tag": "ABX9TyP5vqY/YeeZYZonSZtFtJ9h",
      "include_colab_link": true
    },
    "kernelspec": {
      "name": "python3",
      "display_name": "Python 3"
    },
    "language_info": {
      "name": "python"
    }
  },
  "cells": [
    {
      "cell_type": "markdown",
      "metadata": {
        "id": "view-in-github",
        "colab_type": "text"
      },
      "source": [
        "<a href=\"https://colab.research.google.com/github/dlim76/AaP_LAB9/blob/main/graphics.ipynb\" target=\"_parent\"><img src=\"https://colab.research.google.com/assets/colab-badge.svg\" alt=\"Open In Colab\"/></a>"
      ]
    },
    {
      "cell_type": "code",
      "execution_count": null,
      "metadata": {
        "id": "pmrNFGP0v7Ca"
      },
      "outputs": [],
      "source": [
        "import matplotlib.pyplot as plt\n",
        "import numpy as np\n",
        "\n",
        "# Данные из первого изображения\n",
        "data = {\n",
        "    'size': [100, 1000, 10000, 50000, 100000, 300000],\n",
        "    'lin_search': [0.091,  0.370,  1.791,  2.608,  8.351,  9.667],\n",
        "    'bn_search': [0.007,  0.004,  0.032,  0.013,  0.007,  0.006],\n",
        "    'rb_search': [0.009,  0.002,  0.007,  0.005,  0.003,  0.003]\n",
        "}\n",
        "\n",
        "# --- 1. Общий график для всех алгоритмов ---\n",
        "plt.figure(figsize=(10, 6))\n",
        "plt.plot(data['size'], data['lin_search'], marker='o', label='Linear Search', color='blue')\n",
        "plt.plot(data['size'], data['bn_search'], marker='s', label='Binary Search', color='green')\n",
        "plt.plot(data['size'], data['rb_search'], marker='^', label='Red-Black Search', color='red')\n",
        "\n",
        "plt.xlabel('Array Size')\n",
        "plt.ylabel('Time (seconds)')\n",
        "plt.title('Search Algorithm Performance Comparison (All Methods)')\n",
        "plt.legend()\n",
        "plt.grid(True)\n",
        "plt.show()\n",
        "\n",
        "# --- 2. Увеличенный график для Binary и Red-Black Search ---\n",
        "plt.figure(figsize=(10, 6))\n",
        "plt.plot(data['size'], data['bn_search'], marker='s', label='Binary Search', color='green')\n",
        "plt.plot(data['size'], data['rb_search'], marker='^', label='Red-Black Search', color='red')\n",
        "\n",
        "# Уменьшаем масштаб оси Y для лучшей видимости разницы\n",
        "plt.ylim(0, 0.1)  # Ограничиваем время до 0.1 секунды\n",
        "\n",
        "plt.xlabel('Array Size')\n",
        "plt.ylabel('Time (milliseconds)')\n",
        "plt.title('Binary Search vs Red-Black Search (Detailed View)')\n",
        "plt.legend()\n",
        "plt.grid(True)\n",
        "plt.show()"
      ]
    }
  ]
}